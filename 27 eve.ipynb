{
 "cells": [
  {
   "cell_type": "code",
   "execution_count": 4,
   "metadata": {},
   "outputs": [
    {
     "name": "stdout",
     "output_type": "stream",
     "text": [
      "True\n",
      "False\n"
     ]
    }
   ],
   "source": [
    "import re\n",
    "def phonenumbervalidate(phone):\n",
    "   pattern='^[6-9][0-9]{9}$'\n",
    "   phone=str(phone)\n",
    "   if re.match(pattern,phone):\n",
    "       return True\n",
    "   return False\n",
    "print(phonenumbervalidate(9832737677))\n",
    "print(phonenumbervalidate(97387655))\n"
   ]
  },
  {
   "cell_type": "code",
   "execution_count": 5,
   "metadata": {},
   "outputs": [
    {
     "name": "stdout",
     "output_type": "stream",
     "text": [
      "True\n",
      "False\n",
      "True\n"
     ]
    }
   ],
   "source": [
    "import re\n",
    "def phonenumbervalidate(phone):\n",
    "   pattern ='^[6-9][0-9]{9}$|^[6-9][0-9]{9}$'\n",
    "   phone = str(phone)\n",
    "   if re.match(pattern,phone):\n",
    "       return True\n",
    "   return False\n",
    "print(phonenumbervalidate(9966338855))\n",
    "print(phonenumbervalidate(99668855))\n",
    "print(phonenumbervalidate(9988775533))"
   ]
  },
  {
   "cell_type": "code",
   "execution_count": 6,
   "metadata": {},
   "outputs": [
    {
     "name": "stdout",
     "output_type": "stream",
     "text": [
      "True\n",
      "True\n",
      "True\n"
     ]
    }
   ],
   "source": [
    "import re\n",
    "def phonenumbervalidate(phone):\n",
    "   pattern='^[6-9][0-9]{9}$|^[0][0-9]{9}$|[+][9][1][6-9][0-9]{9}$'\n",
    "   phone=str(phone)\n",
    "   if re.match(pattern,phone):\n",
    "       return True\n",
    "   return False\n",
    "print(phonenumbervalidate(\"9832737677\"))\n",
    "print(phonenumbervalidate(\"0989738765\"))\n",
    "print(phonenumbervalidate(\"+918738678331\"))"
   ]
  },
  {
   "cell_type": "code",
   "execution_count": 10,
   "metadata": {},
   "outputs": [
    {
     "name": "stdout",
     "output_type": "stream",
     "text": [
      "True\n",
      "False\n"
     ]
    }
   ],
   "source": [
    "def validaterollnumber(number):\n",
    "   number = str(number)\n",
    "   pattern=\"^[1][5][2][U][1][A][0][1-9][0-6][0-9]$\";\n",
    "   if re.match(pattern,number):\n",
    "       return True\n",
    "   return False\n",
    "print(validaterollnumber(\"152U1A0555\"))\n",
    "print(validaterollnumber(\"152U1A0485\"))"
   ]
  },
  {
   "cell_type": "code",
   "execution_count": 15,
   "metadata": {},
   "outputs": [
    {
     "name": "stdout",
     "output_type": "stream",
     "text": [
      "False\n",
      "False\n"
     ]
    }
   ],
   "source": [
    "def ValidateEmailID(email):\n",
    "   pattern = \"^[0-9a-z][0-9a-z_](4,13)[0-9a-z][@][a-z0-9](3,18)[.][a-z](2,4)$\"\n",
    "   if re.match(pattern,email):\n",
    "       return True\n",
    "   return False\n",
    "print(ValidateEmailID(\"anil.1889@gmail.com\"))\n",
    "print(ValidateEmailID(\"$anil.1889@gmail.com\"))"
   ]
  },
  {
   "cell_type": "code",
   "execution_count": null,
   "metadata": {},
   "outputs": [],
   "source": [
    "import re\n",
    "def validatePassword(s):\n",
    "    pattern"
   ]
  },
  {
   "cell_type": "code",
   "execution_count": null,
   "metadata": {},
   "outputs": [],
   "source": []
  }
 ],
 "metadata": {
  "kernelspec": {
   "display_name": "Python 3",
   "language": "python",
   "name": "python3"
  },
  "language_info": {
   "codemirror_mode": {
    "name": "ipython",
    "version": 3
   },
   "file_extension": ".py",
   "mimetype": "text/x-python",
   "name": "python",
   "nbconvert_exporter": "python",
   "pygments_lexer": "ipython3",
   "version": "3.7.3"
  }
 },
 "nbformat": 4,
 "nbformat_minor": 2
}
