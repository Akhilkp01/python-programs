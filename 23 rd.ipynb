{
 "cells": [
  {
   "cell_type": "code",
   "execution_count": 1,
   "metadata": {},
   "outputs": [
    {
     "name": "stdout",
     "output_type": "stream",
     "text": [
      "user1[Name] = Anil\n",
      "user1[Age] = 29\n",
      "user1[EmailID]= anil@gmail.com\n",
      "user1[Mobil Number]= 93258147374\n"
     ]
    }
   ],
   "source": [
    "user1 = {'Name':'Anil','Age':'29','EmailID':'anil@gmail.com','Mobile Number':'93258147374'}\n",
    "print(\"user1[Name] =\",user1['Name'])\n",
    "print(\"user1[Age] =\",user1['Age'])\n",
    "print(\"user1[EmailID]=\",user1['EmailID'])\n",
    "print(\"user1[Mobil Number]=\",user1['Mobile Number'])\n"
   ]
  },
  {
   "cell_type": "code",
   "execution_count": 2,
   "metadata": {},
   "outputs": [
    {
     "name": "stdout",
     "output_type": "stream",
     "text": [
      "{'Name': 'Anil', 'Age': '29', 'EmailID': 'anil@gmail.com', 'Mobile Number': '93258147374'}\n",
      "{'Name': 'Anil', 'Age': '29', 'EmailID': 'anil@gmail.com', 'Mobile Number': '93258147374'}\n",
      "{'Name': 'Anil', 'Age': '29', 'EmailID': 'anil@gmail.com', 'Mobile Number': '93258147374', 'address': 'hyderabad'}\n",
      "{'Name': 'Anil', 'Age': '29', 'EmailID': 'anil@gmail.com', 'Mobile Number': '93258147374'}\n"
     ]
    }
   ],
   "source": [
    "user1 = {'Name':'Anil','Age':'29','EmailID':'anil@gmail.com','Mobile Number':'93258147374'}\n",
    "user2=user1.copy()\n",
    "print(user1)\n",
    "print(user2)\n",
    "user1['address'] = 'hyderabad'\n",
    "print(user1)\n",
    "print(user2)\n"
   ]
  },
  {
   "cell_type": "code",
   "execution_count": 3,
   "metadata": {},
   "outputs": [
    {
     "name": "stdout",
     "output_type": "stream",
     "text": [
      "dict_items([('Name', 'Anil'), ('Age', '29'), ('EmailID', 'anil@gmail.com'), ('Mobile Number', '93258147374')])\n"
     ]
    }
   ],
   "source": [
    "user1 = {'Name':'Anil','Age':'29','EmailID':'anil@gmail.com','Mobile Number':'93258147374'}\n",
    "print(user1.items())"
   ]
  },
  {
   "cell_type": "code",
   "execution_count": 7,
   "metadata": {},
   "outputs": [
    {
     "ename": "SyntaxError",
     "evalue": "invalid syntax (<ipython-input-7-19628600c3a3>, line 2)",
     "output_type": "error",
     "traceback": [
      "\u001b[1;36m  File \u001b[1;32m\"<ipython-input-7-19628600c3a3>\"\u001b[1;36m, line \u001b[1;32m2\u001b[0m\n\u001b[1;33m    print(\"%s%s\"lst[0],lst[1]])\u001b[0m\n\u001b[1;37m                  ^\u001b[0m\n\u001b[1;31mSyntaxError\u001b[0m\u001b[1;31m:\u001b[0m invalid syntax\n"
     ]
    }
   ],
   "source": [
    "lst = [\"python\",\"programming\"]\n",
    "print(\"%s%s\"lst[0],lst[1]])"
   ]
  },
  {
   "cell_type": "code",
   "execution_count": null,
   "metadata": {},
   "outputs": [],
   "source": []
  }
 ],
 "metadata": {
  "kernelspec": {
   "display_name": "Python 3",
   "language": "python",
   "name": "python3"
  },
  "language_info": {
   "codemirror_mode": {
    "name": "ipython",
    "version": 3
   },
   "file_extension": ".py",
   "mimetype": "text/x-python",
   "name": "python",
   "nbconvert_exporter": "python",
   "pygments_lexer": "ipython3",
   "version": "3.7.3"
  }
 },
 "nbformat": 4,
 "nbformat_minor": 2
}
